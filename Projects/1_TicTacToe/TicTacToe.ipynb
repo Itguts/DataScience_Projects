{
 "cells": [
  {
   "cell_type": "markdown",
   "metadata": {},
   "source": [
    "# TicTacToe Game"
   ]
  },
  {
   "cell_type": "markdown",
   "metadata": {},
   "source": [
    "**Declaring global variables**"
   ]
  },
  {
   "cell_type": "code",
   "execution_count": 1,
   "metadata": {},
   "outputs": [],
   "source": [
    "#impoting libraries\n",
    "from IPython.display import clear_output"
   ]
  },
  {
   "cell_type": "code",
   "execution_count": 2,
   "metadata": {},
   "outputs": [],
   "source": [
    "\n",
    "#def declare_Variable():    \n",
    "playingBoard = [' ', ' ', ' ', ' ', ' ', ' ', ' ', ' ', ' ']\n",
    "playingBoardForDisplay = ['1','2','3','4','5','6','7','8','9']\n",
    "#or playingBoard = [' ']*9\n",
    "Symbol1 = 'X'\n",
    "Symbol2 = 'O'\n",
    "player1Symbol = Symbol1\n",
    "player2Symbol = Symbol2\n",
    "boxCount = 9\n",
    "currentIndex =1\n",
    "currentBoxNo=0\n",
    "    #print(currentIndex)\n"
   ]
  },
  {
   "cell_type": "code",
   "execution_count": 3,
   "metadata": {},
   "outputs": [],
   "source": [
    "def reset_Variables():\n",
    "    global currentIndex, currentBoxNo, playingBoard\n",
    "    currentBoxNo=0\n",
    "    currentIndex=1\n",
    "    playingBoard = [' ', ' ', ' ', ' ', ' ', ' ', ' ', ' ', ' ']"
   ]
  },
  {
   "cell_type": "markdown",
   "metadata": {},
   "source": [
    " **First Display**"
   ]
  },
  {
   "cell_type": "code",
   "execution_count": 4,
   "metadata": {},
   "outputs": [],
   "source": [
    "def print_Description():\n",
    "    print('TicTac Board looks like this and resembling your number pad\\n')\n",
    "    print(' {0} | {1} | {2}'.format(playingBoardForDisplay[6],playingBoardForDisplay[7],playingBoardForDisplay[8]))\n",
    "    print('---|---|---')\n",
    "    print(' {0} | {1} | {2}'.format(playingBoardForDisplay[3],playingBoardForDisplay[4],playingBoardForDisplay[5]))\n",
    "    print('---|---|---')\n",
    "    print(' {0} | {1} | {2}'.format(playingBoardForDisplay[0],playingBoardForDisplay[1],playingBoardForDisplay[2]))\n",
    "    print('\\n')\n",
    "    #player information\n",
    "    print(\"player1 always starts and its symbol is 'X'\\n\")\n",
    "\n",
    "    print(\"player2 plays with 'O'\")\n",
    "    #Select player from user\n",
    "    print('Enter your player choice.\\n Press 1 for player1 and 2 for player2.')\n"
   ]
  },
  {
   "cell_type": "code",
   "execution_count": 5,
   "metadata": {},
   "outputs": [],
   "source": [
    "def show_board():\n",
    "    clear_output()\n",
    "    print(' {0} | {1} | {2}'.format(playingBoard[6],playingBoard[7],playingBoard[8]))\n",
    "    print('---|---|---')\n",
    "    print(' {0} | {1} | {2}'.format(playingBoard[3],playingBoard[4],playingBoard[5]))\n",
    "    print('---|---|---')\n",
    "    print(' {0} | {1} | {2}'.format(playingBoard[0],playingBoard[1],playingBoard[2]))"
   ]
  },
  {
   "cell_type": "code",
   "execution_count": null,
   "metadata": {},
   "outputs": [],
   "source": []
  },
  {
   "cell_type": "code",
   "execution_count": null,
   "metadata": {},
   "outputs": [],
   "source": []
  },
  {
   "cell_type": "code",
   "execution_count": 6,
   "metadata": {},
   "outputs": [],
   "source": [
    "def ask_For_Player():\n",
    "    while True:    \n",
    "        try:        \n",
    "            currentPlayer = int(input('Enter your player choice '))\n",
    "            #print(currentPlayer)\n",
    "            if currentPlayer==1 or currentPlayer==2:\n",
    "                return currentPlayer\n",
    "                break\n",
    "            else:\n",
    "                print('Please enter 1 for player1 and 2 for player2')\n",
    "                continue\n",
    "        except:\n",
    "            print('Please enter 1 for player1 and 2 for player2')\n",
    "            continue\n",
    "        else:\n",
    "            break"
   ]
  },
  {
   "cell_type": "code",
   "execution_count": null,
   "metadata": {},
   "outputs": [],
   "source": []
  },
  {
   "cell_type": "code",
   "execution_count": 7,
   "metadata": {},
   "outputs": [],
   "source": [
    "def ask_For_BoxNo(currentBoxNo):\n",
    "    while True:    \n",
    "        try:\n",
    "            \n",
    "            boxNo = int(input('Player Enter your box no '))           \n",
    "            \n",
    "            \n",
    "            if boxNo in range(1,10):\n",
    "                emptyBoxIndexes = get_Index_Of_Empty_Boxes()\n",
    "                boxNo = boxNo-1\n",
    "                #print(emptyBoxIndexes)\n",
    "                if boxNo in emptyBoxIndexes:\n",
    "                    currentBoxNo = boxNo\n",
    "                    return currentBoxNo\n",
    "                    break\n",
    "                else:\n",
    "                    print('Enter the empty box no ')\n",
    "                    continue\n",
    "            else:\n",
    "                print('Please enter correct box no ')\n",
    "                continue\n",
    "        except:\n",
    "            print('Please enter box no as number from 1 to 9 ')\n",
    "            continue\n",
    "        else:\n",
    "            break\n",
    "            "
   ]
  },
  {
   "cell_type": "code",
   "execution_count": 8,
   "metadata": {},
   "outputs": [],
   "source": [
    "#check for empty boxes\n",
    "def check_For_Empty_Boxes():\n",
    "    if ' ' in playingBoard:\n",
    "        return True\n",
    "    else:\n",
    "        return False"
   ]
  },
  {
   "cell_type": "code",
   "execution_count": 9,
   "metadata": {},
   "outputs": [],
   "source": [
    "#get index of the empty boxes\n",
    "def get_Index_Of_Empty_Boxes():\n",
    "    return [i for i, e in enumerate(playingBoard) if e == ' ']"
   ]
  },
  {
   "cell_type": "code",
   "execution_count": null,
   "metadata": {},
   "outputs": [],
   "source": []
  },
  {
   "cell_type": "code",
   "execution_count": 10,
   "metadata": {},
   "outputs": [],
   "source": [
    "def check_For_Win():\n",
    "    if (playingBoard[0] == playingBoard[1] and playingBoard[0]==playingBoard[2] and playingBoard[0] != ' '):\n",
    "        return 1\n",
    "    elif (playingBoard[3] == playingBoard[4] and playingBoard[4] == playingBoard[5] and playingBoard[3] != ' '):\n",
    "        return 1  \n",
    "    elif (playingBoard[6] == playingBoard[7] and playingBoard[7] == playingBoard[8] and playingBoard[6] != ' '):\n",
    "        return 1\n",
    "    elif (playingBoard[0] == playingBoard[3] and playingBoard[3] == playingBoard[6] and playingBoard[0] != ' '):\n",
    "        return 1\n",
    "    elif (playingBoard[1] == playingBoard[4] and playingBoard[4] == playingBoard[7] and playingBoard[1] != ' '):\n",
    "        return 1\n",
    "    elif (playingBoard[2] == playingBoard[5] and playingBoard[5] == playingBoard[8] and playingBoard[2] != ' '):\n",
    "        return 1\n",
    "    elif (playingBoard[0] == playingBoard[4] and playingBoard[4] == playingBoard[8] and playingBoard[0] != ' '):\n",
    "        return 1\n",
    "    elif (playingBoard[2] == playingBoard[4] and playingBoard[4] == playingBoard[6] and playingBoard[2] != ' '):\n",
    "        return 1\n",
    "    else:\n",
    "        return 0\n",
    "    "
   ]
  },
  {
   "cell_type": "code",
   "execution_count": 11,
   "metadata": {},
   "outputs": [],
   "source": [
    "def fil_Player_Input(symbol, index):\n",
    "    print('{0} : {1}'.format(symbol,index))\n",
    "    playingBoard[index] = symbol"
   ]
  },
  {
   "cell_type": "code",
   "execution_count": 12,
   "metadata": {},
   "outputs": [],
   "source": [
    "def check_For_Next():\n",
    "    #empty = check_For_Empty_Boxes()\n",
    "    #print(currentIndex)\n",
    "    if currentIndex <= 9 and check_For_Empty_Boxes() == True and check_For_Win() == 0:\n",
    "        return True\n",
    "    else:\n",
    "        return False"
   ]
  },
  {
   "cell_type": "code",
   "execution_count": 13,
   "metadata": {},
   "outputs": [],
   "source": [
    "def get_Winner(currentPlayer):\n",
    "    #print(currentPlayer)\n",
    "    if currentPlayer == 1:\n",
    "         return ' Player1 won the game! Congratulations'\n",
    "    else:\n",
    "        return ' Player2 won the game! Congratulations'\n",
    "    \n",
    "  "
   ]
  },
  {
   "cell_type": "code",
   "execution_count": 14,
   "metadata": {},
   "outputs": [],
   "source": [
    "def play_Game():\n",
    "    clear_output()\n",
    "    global currentBoxNo, currentIndex\n",
    "    #declare_Variable()\n",
    "    #print(currentIndex)\n",
    "    print_Description()\n",
    "    #show_board()\n",
    "    #set player\n",
    "    player = ask_For_Player()\n",
    "    player1Symbol = Symbol1 if player == 1 else Symbol2\n",
    "    player2Symbol = Symbol2 if player1Symbol == 'X' else Symbol1\n",
    "    currentPlayer = player\n",
    "\n",
    "    while True:\n",
    "        boxNo = ask_For_BoxNo(currentBoxNo)\n",
    "        currentBoxNo = boxNo       \n",
    "        \n",
    "        #print('Index {0}  :  box- {1}'.format(player1Symbol,currentBoxNo))\n",
    "        if currentIndex % 2 != 0:       \n",
    "            fil_Player_Input(player1Symbol, currentBoxNo)\n",
    "        else:        \n",
    "            fil_Player_Input(player2Symbol, currentBoxNo)\n",
    "\n",
    "        show_board()\n",
    "        win = check_For_Win()\n",
    "        #print(win)\n",
    "        if win!=0:\n",
    "            print('Game is over\\n')\n",
    "            \n",
    "            print(get_Winner(currentPlayer))\n",
    "            break\n",
    "        else:\n",
    "            #print(currentIndex)\n",
    "            \n",
    "            nextStatus = check_For_Next()\n",
    "            if nextStatus == False:\n",
    "                print('Game is over and ends with draw.\\n')\n",
    "                break\n",
    "            else:\n",
    "                currentIndex += 1          \n",
    "                currentPlayer = 2 if currentPlayer == 1 else 1\n",
    "                continue\n",
    "    wannaPlayMore = input(\"Enter 'Y' to play again or enter any key to exit \\n\")\n",
    "    if wannaPlayMore == 'Y' or wannaPlayMore == 'y':\n",
    "        reset_Variables()\n",
    "        play_Game()\n",
    "    else:\n",
    "        print('Thanks for playing.')\n",
    "    \n",
    "    \n",
    "    "
   ]
  },
  {
   "cell_type": "code",
   "execution_count": null,
   "metadata": {},
   "outputs": [
    {
     "name": "stdout",
     "output_type": "stream",
     "text": [
      "TicTac Board looks like this and resembling your number pad\n",
      "\n",
      " 7 | 8 | 9\n",
      "---|---|---\n",
      " 4 | 5 | 6\n",
      "---|---|---\n",
      " 1 | 2 | 3\n",
      "\n",
      "\n",
      "player1 always starts and its symbol is 'X'\n",
      "\n",
      "player2 plays with 'O'\n",
      "Enter your player choice.\n",
      " Press 1 for player1 and 2 for player2.\n"
     ]
    }
   ],
   "source": [
    "play_Game()"
   ]
  },
  {
   "cell_type": "code",
   "execution_count": null,
   "metadata": {},
   "outputs": [],
   "source": []
  },
  {
   "cell_type": "code",
   "execution_count": null,
   "metadata": {},
   "outputs": [],
   "source": []
  },
  {
   "cell_type": "code",
   "execution_count": null,
   "metadata": {},
   "outputs": [],
   "source": []
  },
  {
   "cell_type": "code",
   "execution_count": null,
   "metadata": {},
   "outputs": [],
   "source": []
  },
  {
   "cell_type": "code",
   "execution_count": null,
   "metadata": {},
   "outputs": [],
   "source": []
  }
 ],
 "metadata": {
  "kernelspec": {
   "display_name": "Python 3",
   "language": "python",
   "name": "python3"
  },
  "language_info": {
   "codemirror_mode": {
    "name": "ipython",
    "version": 3
   },
   "file_extension": ".py",
   "mimetype": "text/x-python",
   "name": "python",
   "nbconvert_exporter": "python",
   "pygments_lexer": "ipython3",
   "version": "3.7.3"
  }
 },
 "nbformat": 4,
 "nbformat_minor": 2
}
