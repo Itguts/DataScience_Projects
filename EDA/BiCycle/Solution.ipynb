{
 "cells": [
  {
   "cell_type": "markdown",
   "metadata": {},
   "source": [
    "# Project : EDA\n",
    "\n",
    "## Introduction to Problem statement\n",
    "\n",
    "Over the past decade, bicycle-sharing systems have been growing in number and popularity in cities across the world. Bicycle-sharing systems allow users to rent bicycles for short trips, typically 30 minutes or less. Thanks to the rise in information technologies, it is easy for a user of the system to access a dock within the system to unlock or return bicycles. These technologies also provide a wealth of data that can be used to explore how these bike-sharing systems are used.\n",
    "\n",
    "In this project, you will perform an exploratory analysis on data provided by [Motivate](https://www.motivateco.com/), a bike-share system provider for many major cities in the United States. You will compare the system usage between three large cities: New York City, Chicago, and Washington, DC. You will also see if there are any differences within each system for those users that are registered, regular users and those users that are short-term, casual users."
   ]
  },
  {
   "cell_type": "markdown",
   "metadata": {},
   "source": [
    "<a id='pose_questions'></a>\n",
    "## So whats the  Questions?\n",
    "\n",
    "Before looking at the bike sharing data, you should start by asking questions you might want to understand about the bike share data. Consider, for example, if you were working for Motivate. What kinds of information would you want to know about in order to make smarter business decisions? If you were a user of the bike-share service, what factors might influence how you would want to use the service?\n",
    "\n",
    "**Question 1**: Write at least two questions related to bike sharing that you think could be answered by data.\n",
    "\n",
    "\n",
    "**Answer**: Question1- Is Fare for bike rent for daily users less?<br>\n",
    "            Question2- Is there a pass mechanism for daily users?<br>\n",
    "            Question3- During weekdays/office hour, is there shortage or high demand of bike?\n",
    "            Question4:-During sunny day/festival, Is there high demand of bike.\n",
    "            Question5- City which offers better parking facility, will have more bikers.\n",
    "\n"
   ]
  },
  {
   "cell_type": "markdown",
   "metadata": {},
   "source": [
    "<a id='wrangling'></a>\n",
    "## Data Collection and Wrangling\n",
    "\n",
    "Now it's time to collect and explore our data. In this project, we will focus on the record of individual trips taken in 2016 from our selected cities: New York City, Chicago, and Washington, DC. Each of these cities has a page where we can freely download the trip data.:\n",
    "\n",
    "- New York City (Citi Bike): [Link](https://www.citibikenyc.com/system-data)\n",
    "- Chicago (Divvy): [Link](https://www.divvybikes.com/system-data)\n",
    "- Washington, DC (Capital Bikeshare): [Link](https://www.capitalbikeshare.com/system-data)\n",
    "\n",
    "If you visit these pages, you will notice that each city has a different way of delivering its data. Chicago updates with new data twice a year, Washington DC is quarterly, and New York City is monthly. **However, you do not need to download the data yourself.** The data has already been collected for you in the `/data/` folder of the project files. While the original data for 2016 is spread among multiple files for each city, the files in the `/data/` folder collect all of the trip data for the year into one file per city. Some data wrangling of inconsistencies in timestamp format within each city has already been performed for you. In addition, a random 2% sample of the original data is taken to make the exploration more manageable. \n",
    "\n",
    "**Question 2**: However, there is still a lot of data for us to investigate, so it's a good idea to start off by looking at one entry from each of the cities we're going to analyze. Run the first code cell below to load some packages and functions that you'll be using in your analysis. Then, complete the second code cell to print out the first trip recorded from each of the cities (the second line of each data file)."
   ]
  },
  {
   "cell_type": "code",
   "execution_count": 37,
   "metadata": {},
   "outputs": [
    {
     "data": {
      "text/plain": [
       "'D:\\\\Study\\\\Python\\\\Teclov\\\\Assignments\\\\Teclov_Assignment3_EDA\\\\Teclov_assignment_EDA\\\\assignment3'"
      ]
     },
     "execution_count": 37,
     "metadata": {},
     "output_type": "execute_result"
    }
   ],
   "source": [
    "# write import statements\n",
    "import numpy as np\n",
    "import pandas as pd\n",
    "import matplotlib.pyplot as plt\n",
    "import seaborn as sns\n",
    "from pprint import pprint #print formated output like dictionary, json\n",
    "\n",
    "#to supress warnings\n",
    "import warnings\n",
    "warnings.filterwarnings('ignore')\n",
    "#check the working directory\n",
    "%pwd"
   ]
  },
  {
   "cell_type": "code",
   "execution_count": 38,
   "metadata": {},
   "outputs": [
    {
     "name": "stdout",
     "output_type": "stream",
     "text": [
      "City: NYC\n",
      "{'bikeid': '17109',\n",
      " 'birth year': '',\n",
      " 'end station id': '401',\n",
      " 'end station latitude': '40.72019576',\n",
      " 'end station longitude': '-73.98997825',\n",
      " 'end station name': 'Allen St & Rivington St',\n",
      " 'gender': '0',\n",
      " 'start station id': '532',\n",
      " 'start station latitude': '40.710451',\n",
      " 'start station longitude': '-73.960876',\n",
      " 'start station name': 'S 5 Pl & S 4 St',\n",
      " 'starttime': '1/1/2016 00:09:55',\n",
      " 'stoptime': '1/1/2016 00:23:54',\n",
      " 'tripduration': '839',\n",
      " 'usertype': 'Customer'}\n",
      "\n",
      "\n",
      "City: Chicago\n",
      "{'bikeid': '2295',\n",
      " 'birthyear': '1990',\n",
      " 'from_station_id': '156',\n",
      " 'from_station_name': 'Clark St & Wellington Ave',\n",
      " 'gender': 'Male',\n",
      " 'starttime': '3/31/2016 23:30',\n",
      " 'stoptime': '3/31/2016 23:46',\n",
      " 'to_station_id': '166',\n",
      " 'to_station_name': 'Ashland Ave & Wrightwood Ave',\n",
      " 'trip_id': '9080545',\n",
      " 'tripduration': '926',\n",
      " 'usertype': 'Subscriber'}\n",
      "\n",
      "\n",
      "City: Washington\n",
      "{'Bike number': 'W20842',\n",
      " 'Duration (ms)': '427387',\n",
      " 'End date': '3/31/2016 23:04',\n",
      " 'End station': 'Georgia Ave and Fairmont St NW',\n",
      " 'End station number': '31207',\n",
      " 'Member Type': 'Registered',\n",
      " 'Start date': '3/31/2016 22:57',\n",
      " 'Start station': 'Park Rd & Holmead Pl NW',\n",
      " 'Start station number': '31602'}\n",
      "\n",
      "\n"
     ]
    }
   ],
   "source": [
    "# write your code here  and get below type of output    \n",
    "    #reading files for chicago city, NY and Washington\n",
    "import csv\n",
    "\n",
    "example_trips=  {}\n",
    "#reading  NYC\n",
    "\n",
    "with open('data\\\\NYC-CitiBike-2016.csv','r') as csvfile:    \n",
    "    reader_NYC = csv.DictReader(csvfile)\n",
    "    for i,row in enumerate(reader_NYC):\n",
    "        example_trips['NYC']=dict(row)\n",
    "        if(i == 0):\n",
    "            break\n",
    "\n",
    "# for chicgo\n",
    "\n",
    "with open('data\\Chicago-Divvy-2016.csv','r') as csvfile:\n",
    "    reader_Chicago = csv.DictReader(csvfile)\n",
    "    for i,row in enumerate(reader_Chicago):\n",
    "        example_trips['Chicago']= dict(row)\n",
    "        if(i == 0):\n",
    "            break\n",
    "\n",
    "\n",
    "##for wahington\n",
    "\n",
    "with open('data\\\\Washington-CapitalBikeshare-2016.csv', 'r') as csvfile:\n",
    "    reader_Washington = csv.DictReader(csvfile)\n",
    "    for i,row in enumerate(reader_Washington):\n",
    "        example_trips['Washington']= dict(row)\n",
    "        if(i == 0):\n",
    "            break\n",
    "#print all cities first row\n",
    "for k,v in example_trips.items():\n",
    "    print('City: {}'.format(k))\n",
    "    pprint(v)\n",
    "    print('\\n')"
   ]
  },
  {
   "cell_type": "code",
   "execution_count": 39,
   "metadata": {},
   "outputs": [
    {
     "name": "stdout",
     "output_type": "stream",
     "text": [
      "City: NYC\n",
      "{'bikeid': '17109',\n",
      " 'birth year': '',\n",
      " 'end station id': '401',\n",
      " 'end station latitude': '40.72019576',\n",
      " 'end station longitude': '-73.98997825',\n",
      " 'end station name': 'Allen St & Rivington St',\n",
      " 'gender': '0',\n",
      " 'start station id': '532',\n",
      " 'start station latitude': '40.710451',\n",
      " 'start station longitude': '-73.960876',\n",
      " 'start station name': 'S 5 Pl & S 4 St',\n",
      " 'starttime': '1/1/2016 00:09:55',\n",
      " 'stoptime': '1/1/2016 00:23:54',\n",
      " 'tripduration': '839',\n",
      " 'usertype': 'Customer'}\n",
      "\n",
      "\n",
      "City: Chicago\n",
      "{'bikeid': '2295',\n",
      " 'birthyear': '1990',\n",
      " 'from_station_id': '156',\n",
      " 'from_station_name': 'Clark St & Wellington Ave',\n",
      " 'gender': 'Male',\n",
      " 'starttime': '3/31/2016 23:30',\n",
      " 'stoptime': '3/31/2016 23:46',\n",
      " 'to_station_id': '166',\n",
      " 'to_station_name': 'Ashland Ave & Wrightwood Ave',\n",
      " 'trip_id': '9080545',\n",
      " 'tripduration': '926',\n",
      " 'usertype': 'Subscriber'}\n",
      "\n",
      "\n",
      "City: Washington\n",
      "{'Bike number': 'W20842',\n",
      " 'Duration (ms)': '427387',\n",
      " 'End date': '3/31/2016 23:04',\n",
      " 'End station': 'Georgia Ave and Fairmont St NW',\n",
      " 'End station number': '31207',\n",
      " 'Member Type': 'Registered',\n",
      " 'Start date': '3/31/2016 22:57',\n",
      " 'Start station': 'Park Rd & Holmead Pl NW',\n",
      " 'Start station number': '31602'}\n",
      "\n",
      "\n"
     ]
    }
   ],
   "source": [
    "#or creating print_first_point function as required in question 3b\n",
    "def print_first_point(fileName):\n",
    "    #code to extract city name from input paramter filename and print as per desired output\n",
    "    cityName = fileName.split('-')[0].split('/')[-1]\n",
    "    print('City: {}'.format(cityName))\n",
    "   \n",
    "    \n",
    "    #Read the csv file using dictReader as it gives all the records in the form of dictionary in which column name is the key\n",
    "    with open(fileName,'r') as csvFile:\n",
    "        csvDictReader = csv.DictReader(csvFile)\n",
    "        \n",
    "        #get only first row\n",
    "        first_row_trip = next(csvDictReader)\n",
    "        \n",
    "        #print the output\n",
    "        pprint(dict(first_row_trip))\n",
    "    #return the city name and its first trip    \n",
    "    return (cityName, dict(first_row_trip))\n",
    "\n",
    "#call this function for all the givent three cities and store cityname and its first trip record in  a dictionary for further use\n",
    "\n",
    "city_data_files = ['./data/NYC-CitiBike-2016.csv',\n",
    "              './data/Chicago-Divvy-2016.csv',\n",
    "              './data/Washington-CapitalBikeshare-2016.csv',]\n",
    "\n",
    "example_trips = {}\n",
    "#iterate each input file and call the above function\n",
    "\n",
    "for file in city_data_files:\n",
    "    cityName, first_row_trip = print_first_point(file)\n",
    "    example_trips[cityName] = first_row_trip\n",
    "    print('\\n')\n",
    "    \n"
   ]
  },
  {
   "cell_type": "code",
   "execution_count": null,
   "metadata": {},
   "outputs": [],
   "source": []
  },
  {
   "cell_type": "markdown",
   "metadata": {},
   "source": [
    "If everything has been filled out correctly, you should see below the printout of each city name (which has been parsed from the data file name) that the first trip has been parsed in the form of a dictionary. When you set up a `DictReader` object, the first row of the data file is normally interpreted as column names. Every other row in the data file will use those column names as keys, as a dictionary is generated for each row.\n",
    "\n",
    "This will be useful since we can refer to quantities by an easily-understandable label instead of just a numeric index. For example, if we have a trip stored in the variable `row`, then we would rather get the trip duration from `row['duration']` instead of `row[0]`.\n",
    "\n",
    "<a id='condensing'></a>\n",
    "### Condensing the Trip Data\n",
    "\n",
    "It should also be observable from the above printout that each city provides different information. Even where the information is the same, the column names and formats are sometimes different. To make things as simple as possible when we get to the actual exploration, we should trim and clean the data. Cleaning the data makes sure that the data formats across the cities are consistent, while trimming focuses only on the parts of the data we are most interested in to make the exploration easier to work with.\n",
    "\n",
    "You will generate new data files with five values of interest for each trip: trip duration, starting month, starting hour, day of the week, and user type. Each of these may require additional wrangling depending on the city:\n",
    "\n",
    "- **Duration**: This has been given to us in seconds (New York, Chicago) or milliseconds (Washington). A more natural unit of analysis will be if all the trip durations are given in terms of minutes.\n",
    "- **Month**, **Hour**, **Day of Week**: Ridership volume is likely to change based on the season, time of day, and whether it is a weekday or weekend. Use the start time of the trip to obtain these values. The New York City data includes the seconds in their timestamps, while Washington and Chicago do not. The [`datetime`](https://docs.python.org/3/library/datetime.html) package will be very useful here to make the needed conversions.\n",
    "- **User Type**: It is possible that users who are subscribed to a bike-share system will have different patterns of use compared to users who only have temporary passes. Washington divides its users into two types: 'Registered' for users with annual, monthly, and other longer-term subscriptions, and 'Casual', for users with 24-hour, 3-day, and other short-term passes. The New York and Chicago data uses 'Subscriber' and 'Customer' for these groups, respectively. For consistency, you will convert the Washington labels to match the other two.\n",
    "\n",
    "\n",
    "**Question 3a**: Complete the helper functions in the code cells below to address each of the cleaning tasks described above."
   ]
  },
  {
   "cell_type": "code",
   "execution_count": 40,
   "metadata": {},
   "outputs": [],
   "source": [
    "def duration_in_mins(datum, city):\n",
    "    \"\"\"\n",
    "    Takes as input a dictionary containing info about a single trip (datum) and\n",
    "    its origin city (city) and returns the trip duration in units of minutes.\n",
    "    \n",
    "    Remember that Washington is in terms of milliseconds while Chicago and NYC\n",
    "    are in terms of seconds. \n",
    "    \n",
    "    HINT: The csv module reads in all of the data as strings, including numeric\n",
    "    values. You will need a function to convert the strings into an appropriate\n",
    "    numeric type when making your transformations.\n",
    "    see https://docs.python.org/3/library/functions.html\n",
    "    \"\"\"\n",
    "         \n",
    "    if city=='NYC' or city == 'Chicago':\n",
    "        return float(datum['tripduration'])/60   \n",
    "    else:\n",
    "        return float(datum['Duration (ms)'])/(60*1000)\n",
    "\n",
    "# Some tests to check that your code works. There should be no output if all of\n",
    "# the assertions pass. The `example_trips` dictionary was obtained from when\n",
    "# you printed the first trip from each of the original data files.\n",
    "tests = {'NYC': 13.9833,\n",
    "         'Chicago': 15.4333,\n",
    "         'Washington': 7.1231}\n",
    "\n",
    "for city in tests:\n",
    "    assert abs(duration_in_mins(example_trips[city], city) - tests[city]) < .001"
   ]
  },
  {
   "cell_type": "code",
   "execution_count": 41,
   "metadata": {},
   "outputs": [],
   "source": [
    "from datetime import datetime\n",
    "def time_of_trip(datum, city):\n",
    "    \"\"\"\n",
    "    Takes as input a dictionary containing info about a single trip (datum) and\n",
    "    its origin city (city) and returns the month, hour, and day of the week in\n",
    "    which the trip was made.\n",
    "    \n",
    "    Remember that NYC includes seconds, while Washington and Chicago do not.\n",
    "    \n",
    "    HINT: You should use the datetime module to parse the original date\n",
    "    strings into a format that is useful for extracting the desired information.\n",
    "    see https://docs.python.org/3/library/datetime.html#strftime-and-strptime-behavior\n",
    "    \"\"\"\n",
    "    #convert string datetime to datetime as per its format\n",
    "    travelStartingDatetime=\"\"\n",
    "    if city=='NYC':\n",
    "        travelStartingDatetime = datetime.strptime(datum['starttime'], '%m/%d/%Y %H:%M:%S')\n",
    "    elif city == 'Chicago':\n",
    "        travelStartingDatetime = datetime.strptime(datum['starttime'], '%m/%d/%Y %H:%M')\n",
    "    elif city == 'Washington':\n",
    "         travelStartingDatetime = datetime.strptime(datum['Start date'], '%m/%d/%Y %H:%M')\n",
    "    \n",
    "    \n",
    "    #parsing the datetime\n",
    "    timeInfo  = []\n",
    "    for attr in ['month','hour','day']:        \n",
    "        if attr == 'day':\n",
    "            timeInfo.append(travelStartingDatetime.strftime(\"%A\"))\n",
    "        else:\n",
    "            timeInfo.append(getattr(travelStartingDatetime, attr))\n",
    "            \n",
    "    return tuple(timeInfo)\n",
    "\n",
    "\n",
    "\n",
    "# Some tests to check that your code works. There should be no output if all of\n",
    "# the assertions pass. The `example_trips` dictionary was obtained from when\n",
    "# you printed the first trip from each of the original data files.\n",
    "tests = {'NYC': (1, 0, 'Friday'),\n",
    "         'Chicago': (3, 23, 'Thursday'),\n",
    "         'Washington': (3, 22, 'Thursday')}\n",
    "\n",
    "for city in tests:\n",
    "    assert time_of_trip(example_trips[city], city) == tests[city]"
   ]
  },
  {
   "cell_type": "code",
   "execution_count": 42,
   "metadata": {},
   "outputs": [],
   "source": [
    "def type_of_user(datum, city):\n",
    "    \"\"\"\n",
    "    Takes as input a dictionary containing info about a single trip (datum) and\n",
    "    its origin city (city) and returns the type of system user that made the\n",
    "    trip.\n",
    "    \n",
    "    Remember that Washington has different category names compared to Chicago\n",
    "    and NYC. \n",
    "    \"\"\"\n",
    "    if city == 'NYC' or city == 'Chicago':            \n",
    "        return datum['usertype']\n",
    "    else:\n",
    "        if datum['Member Type'] == 'Registered':\n",
    "            return 'Subscriber'\n",
    "        else:\n",
    "            return 'Customer'  ## for blank value- i have considered as Customer because fir daily user,\n",
    "                                #we must have entry as a subscriber. There are 717 blnak rows.\n",
    "      \n",
    "\n",
    "\n",
    "# Some tests to check that your code works. There should be no output if all of\n",
    "# the assertions pass. The `example_trips` dictionary was obtained from when\n",
    "# you printed the first trip from each of the original data files.\n",
    "tests = {'NYC': 'Customer',\n",
    "         'Chicago': 'Subscriber',\n",
    "         'Washington': 'Subscriber'}\n",
    "\n",
    "for city in tests:\n",
    "    assert type_of_user(example_trips[city], city) == tests[city]"
   ]
  },
  {
   "cell_type": "markdown",
   "metadata": {},
   "source": [
    "**Question 3b**: Now, use the helper functions you wrote above to create a condensed data file for each city consisting only of the data fields indicated above. In the `/examples/` folder, you will see an example datafile from the [Bay Area Bike Share](http://www.bayareabikeshare.com/open-data) before and after conversion. Make sure that your output is formatted to be consistent with the example file."
   ]
  },
  {
   "cell_type": "code",
   "execution_count": 43,
   "metadata": {},
   "outputs": [],
   "source": [
    "def condense_data(in_file, out_file, city):\n",
    "    \"\"\"\n",
    "    This function takes full data from the specified input file\n",
    "    and writes the condensed data to a specified output file. The city\n",
    "    argument determines how the input file will be parsed.\n",
    "    \n",
    "    HINT: See the cell below to see how the arguments are structured!\n",
    "    \"\"\"\n",
    "    \n",
    "    with open(out_file, 'w') as f_out, open(in_file, 'r') as f_in:\n",
    "        # set up csv DictWriter object - writer requires column names for the\n",
    "        # first row as the \"fieldnames\" argument\n",
    "        out_colnames = ['duration', 'month', 'hour', 'day_of_week', 'user_type']        \n",
    "        trip_writer = csv.DictWriter(f_out, fieldnames = out_colnames,delimiter=',', lineterminator='\\n')\n",
    "        trip_writer.writeheader()\n",
    "        \n",
    "        ## TODO: set up csv DictReader object ##\n",
    "        trip_reader = csv.DictReader(f_in)\n",
    "       \n",
    "        # collect data from and process each row\n",
    "        for row in trip_reader:\n",
    "            # set up a dictionary to hold the values for the cleaned and trimmed\n",
    "            # data point\n",
    "            new_point = {}\n",
    "            \n",
    "            #extracting desired columns\n",
    "            dictRow = dict(row)\n",
    "            duration = duration_in_mins(dictRow,city)\n",
    "            timeInfo = time_of_trip(dictRow,city)\n",
    "            #get individual time info from tupe\n",
    "            month = timeInfo[0]\n",
    "            hour = timeInfo[1]\n",
    "            day_of_week = timeInfo[2]\n",
    "            user_type = type_of_user(dictRow,city)\n",
    "            \n",
    "            # binding the dictionary\n",
    "            new_point['duration'] = duration\n",
    "            new_point['month'] = month\n",
    "            new_point['hour'] = hour\n",
    "            new_point['day_of_week'] = day_of_week\n",
    "            new_point['user_type'] = user_type\n",
    "            # writin the file using the dictionary\n",
    "            trip_writer.writerow(new_point)\n",
    "         \n"
   ]
  },
  {
   "cell_type": "code",
   "execution_count": 44,
   "metadata": {},
   "outputs": [
    {
     "name": "stdout",
     "output_type": "stream",
     "text": [
      "City: Washington\n",
      "{'day_of_week': 'Thursday',\n",
      " 'duration': '7.123116666666666',\n",
      " 'hour': '22',\n",
      " 'month': '3',\n",
      " 'user_type': 'Subscriber'}\n",
      "\n",
      "\n",
      "City: Chicago\n",
      "{'day_of_week': 'Thursday',\n",
      " 'duration': '15.433333333333334',\n",
      " 'hour': '23',\n",
      " 'month': '3',\n",
      " 'user_type': 'Subscriber'}\n",
      "\n",
      "\n",
      "City: NYC\n",
      "{'day_of_week': 'Friday',\n",
      " 'duration': '13.983333333333333',\n",
      " 'hour': '0',\n",
      " 'month': '1',\n",
      " 'user_type': 'Customer'}\n",
      "\n",
      "\n"
     ]
    }
   ],
   "source": [
    "# Run this cell to check your work\n",
    "city_info = {'Washington': {'in_file': './data/Washington-CapitalBikeshare-2016.csv',\n",
    "                            'out_file': './data/Washington-2016-Summary.csv'},\n",
    "             'Chicago': {'in_file': './data/Chicago-Divvy-2016.csv',\n",
    "                         'out_file': './data/Chicago-2016-Summary.csv'},\n",
    "             'NYC': {'in_file': './data/NYC-CitiBike-2016.csv',\n",
    "                     'out_file': './data/NYC-2016-Summary.csv'}}\n",
    "\n",
    "for city, filenames in city_info.items():\n",
    "    condense_data(filenames['in_file'], filenames['out_file'], city)\n",
    "    print_first_point(filenames['out_file'])\n",
    "    print('\\n')"
   ]
  },
  {
   "cell_type": "code",
   "execution_count": null,
   "metadata": {},
   "outputs": [],
   "source": []
  },
  {
   "cell_type": "markdown",
   "metadata": {},
   "source": [
    "\n",
    "\n",
    "<a id='eda'></a>\n",
    "## Exploratory Data Analysis\n",
    "\n",
    "Now that you have the data collected and wrangled, you're ready to start exploring the data. In this section you will write some code to compute descriptive statistics from the data. You will also be introduced to the `matplotlib` library to create some basic histograms of the data.\n",
    "\n",
    "<a id='statistics'></a>\n",
    "### Statistics\n",
    "\n",
    "First, let's compute some basic counts. The first cell below contains a function that uses the csv module to iterate through a provided data file, returning the number of trips made by subscribers and customers. The second cell runs this function on the example Bay Area data in the `/examples/` folder. Modify the cells to answer the question below.\n",
    "\n",
    "**Question 4a**: Which city has the highest number of trips? Which city has the highest proportion of trips made by subscribers? Which city has the highest proportion of trips made by short-term customers?\n",
    "\n",
    "**Answer**:<br> **NewYork**</b> city has the maximum number of trips. <br>\n",
    "            **NewYork** city has the highest proportion of trips made by subscribers.<br>\n",
    "            **Chicago** city has the highest proportion of trips made by short-term customers."
   ]
  },
  {
   "cell_type": "code",
   "execution_count": 45,
   "metadata": {},
   "outputs": [],
   "source": [
    "def number_of_trips(filename):    \n",
    "    \"\"\"\n",
    "    This function reads in a file with trip data and reports the number of\n",
    "    trips made by subscribers, customers, and total overall.\n",
    "    \"\"\"\n",
    "    n_subscribers=0\n",
    "    n_customers =0\n",
    "    n_total = 0\n",
    "    with open(filename,'r') as csvfile:    \n",
    "        reader = csv.DictReader(csvfile)\n",
    "        for row in reader:\n",
    "            n_total += 1\n",
    "            userType = row['user_type']\n",
    "            if userType == 'Subscriber':\n",
    "                n_subscribers += 1\n",
    "            else:\n",
    "                n_customers += 1          \n",
    "    \n",
    "        \n",
    "        # return tallies as a tuple\n",
    "        return(n_subscribers, n_customers, n_total)\n",
    "    \n",
    "def proportion_users(filename):\n",
    "    n_subscribers, n_customers, n_total = number_of_trips(filename)\n",
    "    \n",
    "    proportion_of_subscribers = round((n_subscribers / n_total) * 100, 2)\n",
    "    proportion_of_customers = round((n_customers / n_total) * 100, 2)\n",
    "    \n",
    "    return (proportion_of_subscribers, proportion_of_customers)        \n",
    "\n"
   ]
  },
  {
   "cell_type": "code",
   "execution_count": 46,
   "metadata": {},
   "outputs": [
    {
     "name": "stdout",
     "output_type": "stream",
     "text": [
      "(5666, 633, 6299)\n",
      "NYC: (245896, 30902, 276798)\n",
      "Proportion of Subscribers in NYC: 88.84%  Proportion of Customers in NYC: 11.16%\n",
      "\n",
      "Washington: (51753, 14573, 66326)\n",
      "Proportion of Subscribers in Washington: 78.03%  Proportion of Customers in Washington: 21.97%\n",
      "\n",
      "Chicago: (54982, 17149, 72131)\n",
      "Proportion of Subscribers in Chicago: 76.23%  Proportion of Customers in Chicago: 23.77%\n",
      "\n"
     ]
    }
   ],
   "source": [
    "## Run  this and the modify  previous cell to answer Question 4a. Remember to run ##\n",
    "## the function on the cleaned data files you created from Question 3.      ##\n",
    "\n",
    "data_file = './examples/BayArea-Y3-Summary.csv'\n",
    "print(number_of_trips(data_file))\n",
    "\n",
    "data_file_NYC = './data/NYC-2016-Summary.csv'\n",
    "\n",
    "data_file_Washington = './data/Washington-2016-Summary.csv'\n",
    "\n",
    "data_file_Chicago = './data/Chicago-2016-Summary.csv'\n",
    "\n",
    "tempo = proportion_users(data_file_NYC)\n",
    "print(\"NYC: {}\".format(number_of_trips(data_file_NYC)))\n",
    "print(\"Proportion of Subscribers in NYC: {}%  Proportion of Customers in NYC: {}%\\n\".format(tempo[0], tempo[1]))\n",
    "\n",
    "tempo = proportion_users(data_file_Washington)\n",
    "print(\"Washington: {}\".format(number_of_trips(data_file_Washington)))\n",
    "print(\"Proportion of Subscribers in Washington: {}%  Proportion of Customers in Washington: {}%\\n\".format(tempo[0], tempo[1]))\n",
    "\n",
    "tempo = proportion_users(data_file_Chicago)\n",
    "print(\"Chicago: {}\".format(number_of_trips(data_file_Chicago)))\n",
    "print(\"Proportion of Subscribers in Chicago: {}%  Proportion of Customers in Chicago: {}%\\n\".format(tempo[0], tempo[1]))\n"
   ]
  },
  {
   "cell_type": "code",
   "execution_count": null,
   "metadata": {},
   "outputs": [],
   "source": []
  },
  {
   "cell_type": "markdown",
   "metadata": {},
   "source": [
    "> **Tip**: In order to add additional cells to a notebook, you can use the \"Insert Cell Above\" and \"Insert Cell Below\" options from the menu bar above. There is also an icon in the toolbar for adding new cells, with additional icons for moving the cells up and down the document. By default, new cells are of the code type; you can also specify the cell type (e.g. Code or Markdown) of selected cells from the Cell menu or the dropdown in the toolbar.\n",
    "\n",
    "Now, you will write your own code to continue investigating properties of the data.\n",
    "\n",
    "**Question 4b**: Bike-share systems are designed for riders to take short trips. Most of the time, users are allowed to take trips of 30 minutes or less with no additional charges, with overage charges made for trips of longer than that duration. What is the average trip length for each city? What proportion of rides made in each city are longer than 30 minutes?\n",
    "\n",
    "\n",
    "**Answer**: <br>\n",
    "            The avg length trip of **NYC** is 15 mins<br>\n",
    "            The avg length trip of **Washington** is 18 mins<br>\n",
    "            The avg length trip of **Chicago** is 16 mins<br>"
   ]
  },
  {
   "cell_type": "code",
   "execution_count": 47,
   "metadata": {},
   "outputs": [
    {
     "name": "stdout",
     "output_type": "stream",
     "text": [
      "Average trip length Washington: 18, Proportion of long trips: 10.8\n",
      "Average trip length Chicago: 16, Proportion of long trips: 8.3\n",
      "Average trip length NYC: 15, Proportion of long trips: 7.3\n"
     ]
    }
   ],
   "source": [
    "## Use this and additional cells to answer Question 4b.                 ##\n",
    "##                                                                      ##\n",
    "## HINT: The csv module reads in all of the data as strings, including  ##\n",
    "## numeric values. You will need a function to convert the strings      ##\n",
    "## into an appropriate numeric type before you aggregate data.          ##\n",
    "## TIP: For the Bay Area example, the average trip length is 14 minutes ##\n",
    "## and 3.5% of trips are longer than 30 minutes.                        ##\n",
    "import math\n",
    "def avg_trip_length(filename):    \n",
    "    with open(filename,'r') as csvfile:    \n",
    "        reader = csv.DictReader(csvfile)\n",
    "        n_total = 0;\n",
    "        n_ride_longer_than_30 = 0\n",
    "        duration=0.0\n",
    "        for row in reader:\n",
    "            n_total += 1\n",
    "            r_Duration = float(row['duration'])\n",
    "            duration = duration + r_Duration\n",
    "            if r_Duration > 30.0:\n",
    "                n_ride_longer_than_30 += 1\n",
    "                \n",
    "        avg_trip = math.floor((duration/n_total))       \n",
    "        proportion = (n_ride_longer_than_30 / n_total) * 100\n",
    "        \n",
    "            \n",
    "        \n",
    "    return avg_trip, round(proportion, 1)  \n",
    "\n",
    "data_file_Washington = './data/Washington-2016-Summary.csv'\n",
    "temp = avg_trip_length(data_file_Washington)\n",
    "print(\"Average trip length Washington: {}, Proportion of long trips: {}\".format(temp[0], temp[1]))\n",
    "\n",
    "data_file_Chicago = './data/Chicago-2016-Summary.csv'\n",
    "temp = avg_trip_length(data_file_Chicago)\n",
    "print(\"Average trip length Chicago: {}, Proportion of long trips: {}\".format(temp[0], temp[1]))\n",
    "\n",
    "data_file_NYC = './data/NYC-2016-Summary.csv'\n",
    "temp = avg_trip_length(data_file_NYC)\n",
    "print(\"Average trip length NYC: {}, Proportion of long trips: {}\".format(temp[0], temp[1]))"
   ]
  },
  {
   "cell_type": "code",
   "execution_count": null,
   "metadata": {
    "scrolled": true
   },
   "outputs": [],
   "source": []
  },
  {
   "cell_type": "markdown",
   "metadata": {},
   "source": [
    "**Question 4c**: Dig deeper into the question of trip duration based on ridership. Choose one city. Within that city, which type of user takes longer rides on average: Subscribers or Customers?\n",
    "\n",
    "**Answer**: Following is the Answer:\n",
    "City Selected: NYC,\n",
    "Average trip duration Customers: 32.8 \n",
    "Average trip duration Subscribers: 13.7 ; "
   ]
  },
  {
   "cell_type": "code",
   "execution_count": 49,
   "metadata": {},
   "outputs": [
    {
     "name": "stdout",
     "output_type": "stream",
     "text": [
      "City Selected NYC, Average trip duration Subscribers: 13.7 ; Average trip duration Customers: 32.8 \n",
      "\n",
      "\n",
      "City Selected Bay Area, Average trip duration Subscribers: 9.5 ; Average trip duration Customers: 54.6 \n"
     ]
    }
   ],
   "source": [
    "## Use this and additional cells to answer Question 4c. If you have    ##\n",
    "## not done so yet, consider revising some of your previous code to    ##\n",
    "## make use of functions for reusability.                              ##\n",
    "##                                                                     ##\n",
    "## TIP: For the Bay Area example data, you should find the average     ##\n",
    "## Subscriber trip duration to be 9.5 minutes and the average Customer ##\n",
    "## trip duration to be 54.6 minutes. Do the other cities have this     ##\n",
    "## level of difference?                                                ##\n",
    "\n",
    "def answer4c(filename):\n",
    "        with open(filename,'r') as csvfile:\n",
    "            \n",
    "            reader = csv.DictReader(csvfile)\n",
    "            n_total = 0;\n",
    "            n_subscriber_riders_duration = 0\n",
    "            n_customer_riders_duration = 0\n",
    "            n_subscribers = 0\n",
    "            n_customers = 0\n",
    "            total_duration = 0\n",
    "\n",
    "            for row in reader:\n",
    "               \n",
    "                r_Duration = float(row['duration'])\n",
    "                total_duration = total_duration + r_Duration\n",
    "                if row['user_type'] == 'Subscriber':\n",
    "                    n_subscriber_riders_duration  = n_subscriber_riders_duration + r_Duration\n",
    "                    n_subscribers += 1\n",
    "                else:\n",
    "                    n_customer_riders_duration  = n_customer_riders_duration + r_Duration\n",
    "                    n_customers += 1\n",
    "\n",
    "            avg_trip_duration_subscribers = (n_subscriber_riders_duration/n_subscribers)\n",
    "            avg_trip_duration_customers = (n_customer_riders_duration/n_customers)\n",
    "            \n",
    "        \n",
    "        return round(avg_trip_duration_subscribers, 1),  round(avg_trip_duration_customers, 1)\n",
    "                \n",
    "\n",
    "    \n",
    "data_file_NYC = './data/NYC-2016-Summary.csv'\n",
    "temp = answer4c(data_file_NYC)\n",
    "print(\"City Selected NYC, Average trip duration Subscribers: {} ; Average trip duration Customers: {} \".format(temp[0], temp[1]))\n",
    "\n",
    "#for Bay area\n",
    "print('\\n')\n",
    "data_file_Bae = './examples/BayArea-Y3-Summary.csv'\n",
    "temp = answer4c(data_file_Bae)\n",
    "print(\"City Selected Bay Area, Average trip duration Subscribers: {} ; Average trip duration Customers: {} \".format(temp[0], temp[1]))\n",
    "\n"
   ]
  },
  {
   "cell_type": "code",
   "execution_count": null,
   "metadata": {},
   "outputs": [],
   "source": []
  },
  {
   "cell_type": "markdown",
   "metadata": {},
   "source": [
    "<a id='visualizations'></a>\n",
    "### Visualizations\n",
    "\n",
    "The last set of values that you computed should have pulled up an interesting result. While the mean trip time for Subscribers is well under 30 minutes, the mean trip time for Customers is actually _above_ 30 minutes! It will be interesting for us to look at how the trip times are distributed. In order to do this, a new library will be introduced here, `matplotlib`. Run the cell below to load the library and to generate an example plot."
   ]
  },
  {
   "cell_type": "code",
   "execution_count": 50,
   "metadata": {},
   "outputs": [
    {
     "data": {
      "image/png": "[encoded data removed]",
      "text/plain": [
       "<Figure size 432x288 with 1 Axes>"
      ]
     },
     "metadata": {
      "needs_background": "light"
     },
     "output_type": "display_data"
    }
   ],
   "source": [
    "# load library\n",
    "import matplotlib.pyplot as plt\n",
    "\n",
    "# this is a 'magic word' that allows for plots to be displayed\n",
    "# inline with the notebook. If you want to know more, see:\n",
    "# http://ipython.readthedocs.io/en/stable/interactive/magics.html\n",
    "%matplotlib inline \n",
    "\n",
    "# example histogram, data taken from bay area sample\n",
    "data = [ 7.65,  8.92,  7.42,  5.50, 16.17,  4.20,  8.98,  9.62, 11.48, 14.33,\n",
    "        19.02, 21.53,  3.90,  7.97,  2.62,  2.67,  3.08, 14.40, 12.90,  7.83,\n",
    "        25.12,  8.30,  4.93, 12.43, 10.60,  6.17, 10.88,  4.78, 15.15,  3.53,\n",
    "         9.43, 13.32, 11.72,  9.85,  5.22, 15.10,  3.95,  3.17,  8.78,  1.88,\n",
    "         4.55, 12.68, 12.38,  9.78,  7.63,  6.45, 17.38, 11.90, 11.52,  8.63,]\n",
    "plt.hist(data)\n",
    "plt.title('Distribution of Trip Durations')\n",
    "plt.xlabel('Duration (m)')\n",
    "plt.show()"
   ]
  },
  {
   "cell_type": "markdown",
   "metadata": {},
   "source": [
    "In the above cell, we collected fifty trip times in a list, and passed this list as the first argument to the `.hist()` function. This function performs the computations and creates plotting objects for generating a histogram, but the plot is actually not rendered until the `.show()` function is executed. The `.title()` and `.xlabel()` functions provide some labeling for plot context.\n",
    "\n",
    "You will now use these functions to create a histogram of the trip times for the city you selected in question 4c. Don't separate the Subscribers and Customers for now: just collect all of the trip times and plot them."
   ]
  },
  {
   "cell_type": "code",
   "execution_count": 51,
   "metadata": {},
   "outputs": [
    {
     "data": {
      "image/png": "[encoded data removed]",
      "text/plain": [
       "<Figure size 432x288 with 1 Axes>"
      ]
     },
     "metadata": {
      "needs_background": "light"
     },
     "output_type": "display_data"
    }
   ],
   "source": [
    "## Use this and additional cells to collect all of the trip times as a list ##\n",
    "## and then use pyplot functions to generate a histogram of trip times.     ##\n",
    "\n",
    "def plot_graph(filename,city):\n",
    "    duration=[]\n",
    "    with open(filename,'r') as csvfile:    \n",
    "        reader = csv.DictReader(csvfile)              \n",
    "        \n",
    "        for row in reader:           \n",
    "            duration.append(float(row['duration']))\n",
    "    #draw plot\n",
    "    plt.hist(duration)\n",
    "    plt.title('Distribution of Trip Durations for {}'.format(city))\n",
    "    plt.xlabel('Duration(m)')\n",
    "    plt.show()\n",
    "            \n",
    "            \n",
    "data_file_Washington = './data/Washington-2016-Summary.csv'\n",
    "plot_graph(data_file_Washington, 'Washington')\n"
   ]
  },
  {
   "cell_type": "code",
   "execution_count": null,
   "metadata": {},
   "outputs": [],
   "source": []
  },
  {
   "cell_type": "markdown",
   "metadata": {},
   "source": [
    "If you followed the use of the `.hist()` and `.show()` functions exactly like in the example, you're probably looking at a plot that's completely unexpected. The plot consists of one extremely tall bar on the left, maybe a very short second bar, and a whole lot of empty space in the center and right. Take a look at the duration values on the x-axis. This suggests that there are some highly infrequent outliers in the data. Instead of reprocessing the data, you will use additional parameters with the `.hist()` function to limit the range of data that is plotted. Documentation for the function can be found [[here]](https://matplotlib.org/devdocs/api/_as_gen/matplotlib.pyplot.hist.html#matplotlib.pyplot.hist).\n",
    "\n",
    "**Question 5**: Use the parameters of the `.hist()` function to plot the distribution of trip times for the Subscribers in your selected city. Do the same thing for only the Customers. Add limits to the plots so that only trips of duration less than 75 minutes are plotted. As a bonus, set the plots up so that bars are in five-minute wide intervals. For each group, where is the peak of each distribution? How would you describe the shape of each distribution?\n",
    "\n",
    "**Answer**: \n",
    "For Subscribers: It is right skewed and positely skewed\n",
    "For Customers: It is right skewed and positely skewed\n",
    "\n",
    "Since both the graph are dense on one side therefore they are Right Skewed Distribution. "
   ]
  },
  {
   "cell_type": "code",
   "execution_count": 88,
   "metadata": {},
   "outputs": [
    {
     "data": {
      "image/png": "[encoded data removed]",
      "text/plain": [
       "<Figure size 432x288 with 1 Axes>"
      ]
     },
     "metadata": {
      "needs_background": "light"
     },
     "output_type": "display_data"
    }
   ],
   "source": [
    "## Use this and additional cells to answer Question 5. ##\n",
    "import numpy as np\n",
    "def plot_subscriber(filename):\n",
    "    \n",
    "    duration=[]\n",
    "    with open(filename,'r') as csvfile:    \n",
    "        reader = csv.DictReader(csvfile)              \n",
    "        \n",
    "        for row in reader:\n",
    "            if row['user_type'] == 'Subscriber':                \n",
    "                duration.append(float(row['duration']))\n",
    "    #draw plot\n",
    "    \n",
    "    plt.hist(duration, bins=[0,5,10,15,20,25,30,35,40,45,50,55,60,65,70,75])\n",
    "    plt.title('Distribution of Trip of Subscribers in Washington')\n",
    "    plt.xlabel('Duration(m)')\n",
    "    plt.xticks(np.arange(0, 76, 5)) \n",
    "    plt.show()\n",
    "            \n",
    "data_file_Washington = './data/Washington-2016-Summary.csv'\n",
    "plot_subscriber(data_file_Washington)"
   ]
  },
  {
   "cell_type": "code",
   "execution_count": null,
   "metadata": {},
   "outputs": [],
   "source": []
  },
  {
   "cell_type": "code",
   "execution_count": 89,
   "metadata": {},
   "outputs": [
    {
     "data": {
      "image/png": "[encoded data removed]",
      "text/plain": [
       "<Figure size 432x288 with 1 Axes>"
      ]
     },
     "metadata": {
      "needs_background": "light"
     },
     "output_type": "display_data"
    }
   ],
   "source": [
    "def plot_customer(filename):\n",
    "    \n",
    "    duration=[]\n",
    "    with open(filename,'r') as csvfile:    \n",
    "        reader = csv.DictReader(csvfile)              \n",
    "        \n",
    "        for row in reader:\n",
    "            if row['user_type'] == 'Customer':                \n",
    "                duration.append(float(row['duration']))\n",
    "    #draw plot\n",
    "    \n",
    "    plt.hist(duration, bins=list(range(0,80,5)))\n",
    "    plt.xticks(np.arange(0, 76, 5)) \n",
    "   \n",
    "    plt.title('Distribution of Trip of Customers in Washington')\n",
    "    plt.xlabel('Duration(m)')   \n",
    "    plt.show()\n",
    "            \n",
    "data_file_Washington = './data/Washington-2016-Summary.csv'\n",
    "plot_customer(data_file_Washington)"
   ]
  },
  {
   "cell_type": "code",
   "execution_count": null,
   "metadata": {},
   "outputs": [],
   "source": []
  },
  {
   "cell_type": "markdown",
   "metadata": {
    "collapsed": true
   },
   "source": [
    "<a id='eda_continued'></a>\n",
    "## Performing Your Own Analysis\n",
    "\n",
    "So far, you've performed an initial exploration into the data available. You have compared the relative volume of trips made between three U.S. cities and the ratio of trips made by Subscribers and Customers. For one of these cities, you have investigated differences between Subscribers and Customers in terms of how long a typical trip lasts. Now it is your turn to continue the exploration in a direction that you choose. Here are a few suggestions for questions to explore:\n",
    "\n",
    "- How does ridership differ by month or season? Which month / season has the highest ridership? Does the ratio of Subscriber trips to Customer trips change depending on the month or season?\n",
    "- Is the pattern of ridership different on the weekends versus weekdays? On what days are Subscribers most likely to use the system? What about Customers? Does the average duration of rides change depending on the day of the week?\n",
    "- During what time of day is the system used the most? Is there a difference in usage patterns for Subscribers and Customers?\n",
    "\n",
    "If any of the questions you posed in your answer to question 1 align with the bullet points above, this is a good opportunity to investigate one of them. As part of your investigation, you will need to create a visualization. If you want to create something other than a histogram, then you might want to consult the [Pyplot documentation](https://matplotlib.org/devdocs/api/pyplot_summary.html). In particular, if you are plotting values across a categorical variable (e.g. city, user type), a bar chart will be useful. The [documentation page for `.bar()`](https://matplotlib.org/devdocs/api/_as_gen/matplotlib.pyplot.bar.html#matplotlib.pyplot.bar) includes links at the bottom of the page with examples for you to build off of for your own use.\n",
    "\n",
    "**Question 6**: Continue the investigation by exploring another question that could be answered by the data available. Document the question you want to explore below. Your investigation should involve at least two variables and should compare at least two groups. You should also use at least one visualization as part of your explorations.\n",
    "\n",
    "\n",
    "**Answer**: \n",
    "In Washington:- <br>\n",
    "1. Regular riders-Subscribers use bike more on weekdays and less on weekends\n",
    "2. Casual riders proportion is more weekends\n",
    "3. Average duration of Subscriber and customer on weekends are higher than other days.\n",
    "4. Also, average duration of customer type rider is more than subscriber for all days."
   ]
  },
  {
   "cell_type": "code",
   "execution_count": 61,
   "metadata": {},
   "outputs": [
    {
     "data": {
      "image/png": "[encoded data removed]",
      "text/plain": [
       "<Figure size 432x288 with 1 Axes>"
      ]
     },
     "metadata": {
      "needs_background": "light"
     },
     "output_type": "display_data"
    },
    {
     "data": {
      "image/png": "[encoded data removed]",
      "text/plain": [
       "<Figure size 432x288 with 1 Axes>"
      ]
     },
     "metadata": {
      "needs_background": "light"
     },
     "output_type": "display_data"
    }
   ],
   "source": [
    "## Use this and additional cells to continue to explore the dataset. ##\n",
    "## Once you have performed your exploration, document your findings  ##\n",
    "## in the Markdown cell above.         \n",
    "import calendar\n",
    "def per_day_analysis(filename, usertype):\n",
    "    \n",
    "    weekdayNames = list(calendar.day_abbr)\n",
    "    weekday_trips = dict((k,0) for k in weekdayNames)\n",
    "    with open(filename,'r') as csvfile:        \n",
    "        reader = csv.DictReader(csvfile)       \n",
    "        for row in reader:\n",
    "            if row['user_type'] == usertype:                \n",
    "                if row['day_of_week'] == 'Monday':                    \n",
    "                    weekday_trips['Mon'] = weekday_trips['Mon']+1\n",
    "                elif row['day_of_week'] == 'Tuesday':\n",
    "                    weekday_trips['Tue'] = weekday_trips['Tue']+1\n",
    "                elif row['day_of_week'] == 'Wednesday':\n",
    "                    weekday_trips['Wed'] = weekday_trips['Wed']+1\n",
    "                elif row['day_of_week'] == 'Thursday':\n",
    "                    weekday_trips['Thu'] = weekday_trips['Thu']+1\n",
    "                elif row['day_of_week'] == 'Friday':\n",
    "                    weekday_trips['Fri'] = weekday_trips['Fri']+1\n",
    "                elif row['day_of_week'] == 'Saturday':\n",
    "                    weekday_trips['Sat'] = weekday_trips['Sat']+1\n",
    "                elif row['day_of_week'] == 'Sunday':\n",
    "                    weekday_trips['Sun'] = weekday_trips['Sun']+1\n",
    "    #print('h')\n",
    "    #print(weekday_trips)\n",
    "    plt.bar(weekday_trips.keys(), weekday_trips.values(),align='edge', width=0.5)\n",
    "    plt.title('Ridership on different days of the week for {} in Washington'.format(usertype))\n",
    "    plt.ylabel('Ridership')\n",
    "    plt.xlabel('Day of Week')\n",
    "    plt.show()\n",
    "                    \n",
    "\n",
    "        \n",
    " \n",
    "data_file_Washington = './data/Washington-2016-Summary.csv'\n",
    "\n",
    "per_day_analysis(data_file_Washington,'Subscriber')\n",
    "per_day_analysis(data_file_Washington,'Customer')\n",
    "\n",
    "                    \n",
    "               \n"
   ]
  },
  {
   "cell_type": "code",
   "execution_count": 57,
   "metadata": {},
   "outputs": [
    {
     "data": {
      "image/png": "[encoded data removed]",
      "text/plain": [
       "<Figure size 432x288 with 1 Axes>"
      ]
     },
     "metadata": {
      "needs_background": "light"
     },
     "output_type": "display_data"
    },
    {
     "data": {
      "image/png": "[encoded data removed]",
      "text/plain": [
       "<Figure size 432x288 with 1 Axes>"
      ]
     },
     "metadata": {
      "needs_background": "light"
     },
     "output_type": "display_data"
    }
   ],
   "source": [
    "\"\"\"\n",
    "This function plots the bar plot showing the Average of duration on each day for Subscriber and Customer type user.\n",
    "\"\"\"         \n",
    "import calendar\n",
    "def per_day_Avg_Duration(filename, usertype):\n",
    "    \n",
    "    weekdayNames = list(calendar.day_abbr)\n",
    "    weekday_trips = dict((k,0) for k in weekdayNames)\n",
    "    weekday_duration = dict((k,0) for k in weekdayNames)\n",
    "    weekday_avg_duration = dict((k,0) for k in weekdayNames)\n",
    "    with open(filename) as csvfile:        \n",
    "        reader = csv.DictReader(csvfile)       \n",
    "        for row in reader:\n",
    "            if row['user_type'] == usertype:                \n",
    "                if row['day_of_week'] == 'Monday':                    \n",
    "                    weekday_trips['Mon'] = weekday_trips['Mon']+1\n",
    "                    weekday_duration['Mon'] =  weekday_duration['Mon']+float(row['duration'])\n",
    "                elif row['day_of_week'] == 'Tuesday':\n",
    "                    weekday_trips['Tue'] = weekday_trips['Tue']+1\n",
    "                    weekday_duration['Tue'] =  weekday_duration['Tue']+float(row['duration'])\n",
    "                elif row['day_of_week'] == 'Wednesday':\n",
    "                    weekday_trips['Wed'] = weekday_trips['Wed']+1\n",
    "                    weekday_duration['Wed'] =  weekday_duration['Wed']+float(row['duration'])\n",
    "                elif row['day_of_week'] == 'Thursday':\n",
    "                    weekday_trips['Thu'] = weekday_trips['Thu']+1\n",
    "                    weekday_duration['Thu'] =  weekday_duration['Thu']+float(row['duration'])\n",
    "                elif row['day_of_week'] == 'Friday':\n",
    "                    weekday_trips['Fri'] = weekday_trips['Fri']+1\n",
    "                    weekday_duration['Fri'] =  weekday_duration['Fri']+float(row['duration'])\n",
    "                elif row['day_of_week'] == 'Saturday':\n",
    "                    weekday_trips['Sat'] = weekday_trips['Sat']+1\n",
    "                    weekday_duration['Sat'] =  weekday_duration['Sat']+float(row['duration'])\n",
    "                elif row['day_of_week'] == 'Sunday':\n",
    "                    weekday_trips['Sun'] = weekday_trips['Sun']+1\n",
    "                    weekday_duration['Sun'] =  weekday_duration['Sun']+float(row['duration'])\n",
    "    #print('h')\n",
    "    for k,v in weekday_duration.items():\n",
    "        weekday_avg_duration[k] = weekday_duration[k]/weekday_trips[k]\n",
    "        \n",
    "    #print(weekday_avg_duration.values())    \n",
    "    #print(weekday_trips.values())\n",
    "    #print(weekday_duration.values())\n",
    "    plt.bar(weekday_trips.keys(), weekday_avg_duration.values())\n",
    "    plt.title('Ridership on different days of the week for {} in Washington'.format(usertype))\n",
    "    plt.ylabel('Ridership')\n",
    "    plt.xlabel('Day of Week')\n",
    "    plt.show()\n",
    "                    \n",
    "\n",
    "        \n",
    " \n",
    "data_file_Washington = './data/Washington-2016-Summary.csv'\n",
    "\n",
    "per_day_Avg_Duration(data_file_Washington,'Subscriber')\n",
    "per_day_Avg_Duration(data_file_Washington,'Customer')\n",
    "\n",
    "                    \n",
    "               \n"
   ]
  },
  {
   "cell_type": "code",
   "execution_count": null,
   "metadata": {},
   "outputs": [],
   "source": []
  },
  {
   "cell_type": "markdown",
   "metadata": {},
   "source": [
    "<a id='conclusions'></a>\n",
    "## Conclusions\n",
    "\n",
    "Congratulations on completing the project! This is only a sampling of the data analysis process: from generating questions, wrangling the data, and to exploring the data. Normally, at this point in the data analysis process, you might want to draw conclusions about the data by performing a statistical test or fitting the data to a model for making predictions. There are also a lot of potential analyses that could be performed on the data which are not possible with only the data provided. For example, detailed location data has not been investigated. Where are the most commonly used docks? What are the most common routes? As another example, weather has potential to have a large impact on daily ridership. How much is ridership impacted when there is rain or snow? Are subscribers or customers affected more by changes in weather?\n",
    "\n",
    "**Question 7**: Putting the bike share data aside, think of a topic or field of interest where you would like to be able to apply the techniques of data science. What would you like to be able to learn from your chosen subject?\n",
    "\n",
    "**Answer**: \n",
    "\n",
    "Since I am working in Healthcare domain, I would like to apply ML assoiciated to my work. <br>\n",
    "1. **Risk Score Prediction** :- Before selling the Health Insurance to the customer, Insurance provider likes to know how much risk is associated to the customer, how much sum insured amount should be given, what are the exclusions should be allowed, and how much premium should be taken. All this can be easily answered if we generate/predict risk score of that customer. So after collecting customer's well being data like customer's Gender, age, height, weight, pre-existing disease, life style data, i would like crate a Machine learning model from the past data and pass customer's data to it to predict Risck Score. This will really help all the insurance provider to mitigate loss and to apply all the checks before selling the insurance to the customers.\n",
    "\n",
    "2. **Claim Predicting System**: - We have data of insured/customer about thier well being, lab test result, past claims. If i would be able to create a model using that data, then for any new customer if i pass the same of that customer to my model, then my model should give us a predictive claim amount estimate in coming future. In short, Insurance provider will be able to know how much claim the customer is going to take in couple of years before approving the insurance to them.\n",
    "\n",
    "3. As per curiosity- I would like to filter individual's sound from a party\n",
    "\n",
    "4. I would like to detect the mood of the person from its image.(Anger, Happy, Thinking..)\n",
    "\n",
    "5. Detect the sports person or celebrity by passing image as parameter. \n",
    "\n",
    "\n",
    "\n"
   ]
  },
  {
   "cell_type": "code",
   "execution_count": 64,
   "metadata": {},
   "outputs": [
    {
     "data": {
      "text/plain": [
       "4294967295"
      ]
     },
     "execution_count": 64,
     "metadata": {},
     "output_type": "execute_result"
    }
   ],
   "source": [
    "from subprocess import call\n",
    "call(['python', '-m', 'nbconvert', 'Bike_Share_Analysis.ipynb'])"
   ]
  }
 ],
 "metadata": {
  "anaconda-cloud": {},
  "kernelspec": {
   "display_name": "Python 3",
   "language": "python",
   "name": "python3"
  },
  "language_info": {
   "codemirror_mode": {
    "name": "ipython",
    "version": 3
   },
   "file_extension": ".py",
   "mimetype": "text/x-python",
   "name": "python",
   "nbconvert_exporter": "python",
   "pygments_lexer": "ipython3",
   "version": "3.7.3"
  }
 },
 "nbformat": 4,
 "nbformat_minor": 1
}
